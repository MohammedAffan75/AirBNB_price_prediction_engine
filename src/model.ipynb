{
 "cells": [
  {
   "cell_type": "code",
   "execution_count": 4,
   "id": "2a9bb7f9",
   "metadata": {},
   "outputs": [
    {
     "name": "stdout",
     "output_type": "stream",
     "text": [
      "Train shape: (54110, 34)\n",
      "Test shape: (20000, 32)\n"
     ]
    }
   ],
   "source": [
    "# Load the cleaned datasets\n",
    "%store -r train_df_cleaned\n",
    "%store -r test_df_cleaned\n",
    "\n",
    "print(\"Train shape:\", train_df_cleaned.shape)\n",
    "print(\"Test shape:\", test_df_cleaned.shape)"
   ]
  },
  {
   "cell_type": "code",
   "execution_count": 5,
   "id": "50389a17",
   "metadata": {},
   "outputs": [
    {
     "name": "stdout",
     "output_type": "stream",
     "text": [
      "Features shape: (54110, 15)\n",
      "Target shape: (54110,)\n",
      "\n",
      "Feature columns: ['accommodates', 'bathrooms', 'bedrooms', 'beds', 'review_scores_rating', 'number_of_reviews', 'month', 'has_wifi', 'host_verified', 'host_has_pic', 'instant_bookable', 'room_type', 'property_type', 'cancellation_policy', 'city']\n"
     ]
    }
   ],
   "source": [
    "# Define feature columns by type\n",
    "numeric_features = [\n",
    "    'accommodates', 'bathrooms', 'bedrooms', 'beds',\n",
    "    'review_scores_rating', 'number_of_reviews', 'month'\n",
    "]\n",
    "\n",
    "binary_features = [\n",
    "    'has_wifi', 'host_verified', 'host_has_pic', 'instant_bookable'\n",
    "]\n",
    "\n",
    "categorical_features = [\n",
    "    'room_type', 'property_type', 'cancellation_policy', 'city'\n",
    "]\n",
    "\n",
    "# Combine all features\n",
    "feature_cols = numeric_features + binary_features + categorical_features\n",
    "\n",
    "# Create train and test sets\n",
    "X_train = train_df_cleaned[feature_cols]\n",
    "y_train = train_df_cleaned['log_price']  # Using log_price as target\n",
    "X_test = test_df_cleaned[feature_cols]\n",
    "\n",
    "print(\"Features shape:\", X_train.shape)\n",
    "print(\"Target shape:\", y_train.shape)\n",
    "print(\"\\nFeature columns:\", feature_cols)"
   ]
  },
  {
   "cell_type": "code",
   "execution_count": 7,
   "id": "995ab919",
   "metadata": {},
   "outputs": [
    {
     "name": "stdout",
     "output_type": "stream",
     "text": [
      "Training the model...\n"
     ]
    },
    {
     "name": "stderr",
     "output_type": "stream",
     "text": [
      "c:\\Users\\MOHAMMED AFFAN\\AppData\\Local\\Programs\\Python\\Python312\\Lib\\site-packages\\sklearn\\preprocessing\\_encoders.py:975: FutureWarning: `sparse` was renamed to `sparse_output` in version 1.2 and will be removed in 1.4. `sparse_output` is ignored unless you leave `sparse` to its default value.\n",
      "  warnings.warn(\n"
     ]
    },
    {
     "name": "stdout",
     "output_type": "stream",
     "text": [
      "\n",
      "Model Performance on Training Data:\n",
      "RMSE (log price): 0.4698\n",
      "R² Score: 0.5619\n",
      "\n",
      "Model saved to '../models/airbnb_price_model.joblib'\n"
     ]
    }
   ],
   "source": [
    "import numpy as np\n",
    "from sklearn.pipeline import Pipeline\n",
    "from sklearn.compose import ColumnTransformer\n",
    "from sklearn.preprocessing import OneHotEncoder, StandardScaler, MinMaxScaler\n",
    "from sklearn.impute import SimpleImputer\n",
    "from sklearn.linear_model import LinearRegression\n",
    "from sklearn.metrics import mean_squared_error, r2_score\n",
    "import joblib\n",
    "\n",
    "# Create preprocessing pipeline with proper handling for each feature type\n",
    "numeric_transformer = Pipeline(steps=[\n",
    "    ('imputer', SimpleImputer(strategy='median')),\n",
    "    ('scaler', StandardScaler())\n",
    "])\n",
    "\n",
    "binary_transformer = Pipeline(steps=[\n",
    "    ('imputer', SimpleImputer(strategy='constant', fill_value=0)),\n",
    "    ('scaler', MinMaxScaler())\n",
    "])\n",
    "\n",
    "categorical_transformer = Pipeline(steps=[\n",
    "    ('imputer', SimpleImputer(strategy='constant', fill_value='missing')),\n",
    "    ('onehot', OneHotEncoder(drop='first', sparse=False, handle_unknown='ignore'))\n",
    "])\n",
    "\n",
    "# Combine all transformers\n",
    "preprocessor = ColumnTransformer(\n",
    "    transformers=[\n",
    "        ('num', numeric_transformer, numeric_features),\n",
    "        ('bin', binary_transformer, binary_features),\n",
    "        ('cat', categorical_transformer, categorical_features)\n",
    "    ],\n",
    "    remainder='passthrough'\n",
    ")\n",
    "\n",
    "# Create and fit the pipeline\n",
    "pipe = Pipeline([\n",
    "    ('preprocessor', preprocessor),\n",
    "    ('regressor', LinearRegression())\n",
    "])\n",
    "\n",
    "# Fit the model\n",
    "print(\"Training the model...\")\n",
    "pipe.fit(X_train, y_train)\n",
    "\n",
    "# Get training predictions and evaluate\n",
    "y_pred_train = pipe.predict(X_train)\n",
    "train_rmse = np.sqrt(mean_squared_error(y_train, y_pred_train))\n",
    "train_r2 = r2_score(y_train, y_pred_train)\n",
    "\n",
    "print(\"\\nModel Performance on Training Data:\")\n",
    "print(f\"RMSE (log price): {train_rmse:.4f}\")\n",
    "print(f\"R² Score: {train_r2:.4f}\")\n",
    "\n",
    "# Save the trained model\n",
    "joblib.dump(pipe, '../models/airbnb_price_model.joblib')\n",
    "print(\"\\nModel saved to '../models/airbnb_price_model.joblib'\")"
   ]
  }
 ],
 "metadata": {
  "kernelspec": {
   "display_name": "Python 3",
   "language": "python",
   "name": "python3"
  },
  "language_info": {
   "codemirror_mode": {
    "name": "ipython",
    "version": 3
   },
   "file_extension": ".py",
   "mimetype": "text/x-python",
   "name": "python",
   "nbconvert_exporter": "python",
   "pygments_lexer": "ipython3",
   "version": "3.12.5"
  }
 },
 "nbformat": 4,
 "nbformat_minor": 5
}
